{
 "cells": [
  {
   "cell_type": "code",
   "execution_count": 7,
   "id": "add51f9a",
   "metadata": {},
   "outputs": [
    {
     "name": "stdout",
     "output_type": "stream",
     "text": [
      "[(1, 'Task 01', 'Check Task 01 at 1000 AM', None, 0, '2025-09-15 06:35:02.479657', '2025-09-15 06:37:39.785980'), (3, 'Task 03', 'Check Task 03 at 1100 AM', None, 0, '2025-09-15 06:36:02.757958', '2025-09-15 06:36:02.757963'), (4, 'Task 04', 'Check Task 04 at 1400 PM', None, 0, '2025-09-15 06:36:47.257441', '2025-09-15 06:36:47.257447')]\n"
     ]
    }
   ],
   "source": [
    "import sqlite3\n",
    "\n",
    "\n",
    "conn = sqlite3.connect('../todo.db')\n",
    "\n",
    "# querystring = \"\"\"SELECT name FROM sqlite_master WHERE type='table';\"\"\"\n",
    "\n",
    "cursor = conn.cursor()\n",
    "cursor.execute(\"SELECT * FROM todos\")\n",
    "# cursor.execute(querystring)\n",
    "rows = cursor.fetchall()\n",
    "cursor.close()\n",
    "conn.close()\n",
    "print(rows)"
   ]
  },
  {
   "cell_type": "code",
   "execution_count": 2,
   "id": "3895f3aa",
   "metadata": {},
   "outputs": [
    {
     "name": "stdout",
     "output_type": "stream",
     "text": [
      "{\"title\": \"Title name.\", \"content\": \"Content of the file.\"} <class 'str'>\n"
     ]
    }
   ],
   "source": [
    "import json\n",
    "c = {\n",
    "    \"title\": \"Title name.\",\n",
    "    \"content\": \"Content of the file.\"\n",
    "}\n",
    "\n",
    "j = json.dumps(c)\n",
    "print(j, type(j))"
   ]
  }
 ],
 "metadata": {
  "kernelspec": {
   "display_name": "Python 3",
   "language": "python",
   "name": "python3"
  },
  "language_info": {
   "codemirror_mode": {
    "name": "ipython",
    "version": 3
   },
   "file_extension": ".py",
   "mimetype": "text/x-python",
   "name": "python",
   "nbconvert_exporter": "python",
   "pygments_lexer": "ipython3",
   "version": "3.10.4"
  }
 },
 "nbformat": 4,
 "nbformat_minor": 5
}
